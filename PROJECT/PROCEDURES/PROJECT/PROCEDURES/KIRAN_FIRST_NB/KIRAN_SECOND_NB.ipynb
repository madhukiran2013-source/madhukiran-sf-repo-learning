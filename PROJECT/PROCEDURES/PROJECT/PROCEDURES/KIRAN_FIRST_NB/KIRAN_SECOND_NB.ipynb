# Import python packages
import streamlit as st
import pandas as pd

# We can also use Snowpark for our analyses!
from snowflake.snowpark.context import get_active_session
session = get_active_session()